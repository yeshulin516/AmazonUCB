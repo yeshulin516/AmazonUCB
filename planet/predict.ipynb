{
 "cells": [
  {
   "cell_type": "code",
   "execution_count": 2,
   "metadata": {
    "collapsed": true
   },
   "outputs": [],
   "source": [
    "import Ipynb_importer\n",
    "import os\n",
    "import gc\n",
    "import numpy as np\n",
    "import pandas as pd\n",
    "import seaborn as sns\n",
    "import tensorflow as tf\n",
    "import matplotlib.pyplot as plt\n",
    "import matplotlib.image as mpimg"
   ]
  },
  {
   "cell_type": "code",
   "execution_count": null,
   "metadata": {
    "collapsed": true
   },
   "outputs": [],
   "source": [
    "a=1"
   ]
  },
  {
   "cell_type": "code",
   "execution_count": 5,
   "metadata": {
    "collapsed": true
   },
   "outputs": [],
   "source": [
    "#任意的多组列表\n",
    "a = [1,2,3]\n",
    "b = [4,5,6]    \n",
    "\n",
    "#字典中的key值即为csv中列名\n",
    "dataframe = pd.DataFrame({'a_name':a,'b_name':b})\n",
    "\n"
   ]
  },
  {
   "cell_type": "code",
   "execution_count": 6,
   "metadata": {},
   "outputs": [
    {
     "data": {
      "text/html": [
       "<div>\n",
       "<style>\n",
       "    .dataframe thead tr:only-child th {\n",
       "        text-align: right;\n",
       "    }\n",
       "\n",
       "    .dataframe thead th {\n",
       "        text-align: left;\n",
       "    }\n",
       "\n",
       "    .dataframe tbody tr th {\n",
       "        vertical-align: top;\n",
       "    }\n",
       "</style>\n",
       "<table border=\"1\" class=\"dataframe\">\n",
       "  <thead>\n",
       "    <tr style=\"text-align: right;\">\n",
       "      <th></th>\n",
       "      <th>a_name</th>\n",
       "      <th>b_name</th>\n",
       "    </tr>\n",
       "  </thead>\n",
       "  <tbody>\n",
       "    <tr>\n",
       "      <th>0</th>\n",
       "      <td>1</td>\n",
       "      <td>4</td>\n",
       "    </tr>\n",
       "    <tr>\n",
       "      <th>1</th>\n",
       "      <td>2</td>\n",
       "      <td>5</td>\n",
       "    </tr>\n",
       "    <tr>\n",
       "      <th>2</th>\n",
       "      <td>3</td>\n",
       "      <td>6</td>\n",
       "    </tr>\n",
       "  </tbody>\n",
       "</table>\n",
       "</div>"
      ],
      "text/plain": [
       "   a_name  b_name\n",
       "0       1       4\n",
       "1       2       5\n",
       "2       3       6"
      ]
     },
     "execution_count": 6,
     "metadata": {},
     "output_type": "execute_result"
    }
   ],
   "source": [
    "dataframe"
   ]
  },
  {
   "cell_type": "code",
   "execution_count": 8,
   "metadata": {
    "collapsed": true
   },
   "outputs": [],
   "source": [
    "#将DataFrame存储为csv,index表示是否显示行名，default=True\n",
    "dataframe.to_csv(\"/Users/sunchenxi/Desktop/test.csv\",index=False)"
   ]
  },
  {
   "cell_type": "code",
   "execution_count": null,
   "metadata": {
    "collapsed": true
   },
   "outputs": [],
   "source": [
    "test_img=[0]*40668\n",
    "for i in range(0,40668):\n",
    "    test_img[i]=cv2.imread(PLANET_KAGGLE_ROOT+\"/test-jpg/train_\"+str(i)+\".jpg\")"
   ]
  },
  {
   "cell_type": "code",
   "execution_count": null,
   "metadata": {
    "collapsed": true
   },
   "outputs": [],
   "source": [
    "test_x = [np.reshape(cv2.resize(img,(64,64),interpolation=cv2.INTER_AREA), [1,64,64,3]) for img in test_img]"
   ]
  },
  {
   "cell_type": "code",
   "execution_count": null,
   "metadata": {
    "collapsed": true
   },
   "outputs": [],
   "source": [
    "result=model.predict(test_x)"
   ]
  },
  {
   "cell_type": "markdown",
   "metadata": {},
   "source": [
    "#### primary\tagriculture\twater\thabitation\troad\tcultivation\tslash_burn\tconventional_mine\tbare_ground\tartisinal_mine\tblooming\tselective_logging\tblow_down"
   ]
  },
  {
   "cell_type": "code",
   "execution_count": null,
   "metadata": {
    "collapsed": true
   },
   "outputs": [],
   "source": [
    "test_y=[[],[]]\n",
    "for i in range(0,40668):\n",
    "    if result[i][0]>0.5:\n",
    "        test_y[i].append(\"primary\")\n",
    "    if result[i][1]>0.5:\n",
    "        test_y[i].append(\"agriculture\")\n",
    "    if result[i][2]>0.5:\n",
    "        test_y[i].append(\"water\")\n",
    "    if result[i][3]>0.5:\n",
    "        test_y[i].append(\"habitation\")\n",
    "    if result[i][4]>0.5:\n",
    "        test_y[i].append(\"road\")\n",
    "    if result[i][5]>0.5:\n",
    "        test_y[i].append(\"cultivation\")\n",
    "    if result[i][6]>0.5:\n",
    "        test_y[i].append(\"slash_burn\")\n",
    "    if result[i][7]>0.5:\n",
    "        test_y[i].append(\"conventional_mine\")\n",
    "    if result[i][8]>0.5:\n",
    "        test_y[i].append(\"bare_ground\")\n",
    "    if result[i][9]>0.5:\n",
    "        test_y[i].append(\"artisinal_mine\")\n",
    "    if result[i][10]>0.5:\n",
    "        test_y[i].append(\"blooming\")\n",
    "    if result[i][11]>0.5:\n",
    "        test_y[i].append(\"selective_logging\")\n",
    "    if result[i][12]>0.5:\n",
    "        test_y[i].append(\"blow_down\")\n",
    "\n",
    "            "
   ]
  }
 ],
 "metadata": {
  "kernelspec": {
   "display_name": "Python 2",
   "language": "python",
   "name": "python2"
  },
  "language_info": {
   "codemirror_mode": {
    "name": "ipython",
    "version": 2
   },
   "file_extension": ".py",
   "mimetype": "text/x-python",
   "name": "python",
   "nbconvert_exporter": "python",
   "pygments_lexer": "ipython2",
   "version": "2.7.13"
  }
 },
 "nbformat": 4,
 "nbformat_minor": 2
}
