{
 "cells": [
  {
   "cell_type": "code",
   "execution_count": 1,
   "metadata": {},
   "outputs": [
    {
     "name": "stderr",
     "output_type": "stream",
     "text": [
      "Using TensorFlow backend.\n"
     ]
    }
   ],
   "source": [
    "import sys\n",
    "import os\n",
    "import subprocess\n",
    "from six import string_types\n",
    "import numpy as np\n",
    "import pandas as pd\n",
    "import seaborn as sns\n",
    "import matplotlib.pyplot as plt\n",
    "import matplotlib.image as mpimg\n",
    "import scipy\n",
    "from skimage import io\n",
    "from scipy import ndimage\n",
    "from IPython.display import display\n",
    "import cv2\n",
    "from keras.models import Sequential\n",
    "from keras.layers import Input, Dropout, Flatten, Convolution2D, MaxPooling2D, Dense, Activation\n",
    "from keras.optimizers import RMSprop\n",
    "from keras.callbacks import ModelCheckpoint, Callback, EarlyStopping\n",
    "from keras.utils import np_utils\n",
    "from keras import regularizers\n",
    "%matplotlib inline"
   ]
  },
  {
   "cell_type": "code",
   "execution_count": 2,
   "metadata": {
    "collapsed": true
   },
   "outputs": [],
   "source": [
    "from keras.models import load_model"
   ]
  },
  {
   "cell_type": "code",
   "execution_count": 3,
   "metadata": {
    "collapsed": true
   },
   "outputs": [],
   "source": [
    "PLANET_KAGGLE_ROOT = os.path.abspath(\"/Users/sunchenxi/Desktop/lab/kaggle/amazon/\")\n",
    "PLANET_KAGGLE_JPEG_DIR = os.path.join(PLANET_KAGGLE_ROOT, 'train-jpg')\n",
    "PLANET_KAGGLE_LABEL_CSV = os.path.join(PLANET_KAGGLE_ROOT, 'train_v2.csv')\n",
    "assert os.path.exists(PLANET_KAGGLE_ROOT)\n",
    "assert os.path.exists(PLANET_KAGGLE_JPEG_DIR)\n",
    "assert os.path.exists(PLANET_KAGGLE_LABEL_CSV)"
   ]
  },
  {
   "cell_type": "markdown",
   "metadata": {},
   "source": [
    "# load label13 and weather model"
   ]
  },
  {
   "cell_type": "code",
   "execution_count": 5,
   "metadata": {
    "collapsed": true
   },
   "outputs": [],
   "source": [
    "model1 = load_model('my_model.h5')"
   ]
  },
  {
   "cell_type": "code",
   "execution_count": 6,
   "metadata": {
    "collapsed": true
   },
   "outputs": [],
   "source": [
    "model2 = load_model('my_model_weather.h5')"
   ]
  },
  {
   "cell_type": "markdown",
   "metadata": {},
   "source": [
    "# train-jpg labels and images"
   ]
  },
  {
   "cell_type": "code",
   "execution_count": 7,
   "metadata": {
    "collapsed": true
   },
   "outputs": [],
   "source": [
    "#labels of train-jpg\n",
    "labels_df = pd.read_csv(PLANET_KAGGLE_LABEL_CSV)\n",
    "label_list = []\n",
    "for tag_str in labels_df.tags.values:\n",
    "    labels = tag_str.split(' ')\n",
    "    for label in labels:\n",
    "        if label not in label_list:\n",
    "            label_list.append(label)\n",
    "for label in label_list:\n",
    "    labels_df[label] = labels_df['tags'].apply(lambda x: 1 if label in x.split(' ') else 0)"
   ]
  },
  {
   "cell_type": "code",
   "execution_count": 9,
   "metadata": {},
   "outputs": [
    {
     "data": {
      "text/html": [
       "<div>\n",
       "<style>\n",
       "    .dataframe thead tr:only-child th {\n",
       "        text-align: right;\n",
       "    }\n",
       "\n",
       "    .dataframe thead th {\n",
       "        text-align: left;\n",
       "    }\n",
       "\n",
       "    .dataframe tbody tr th {\n",
       "        vertical-align: top;\n",
       "    }\n",
       "</style>\n",
       "<table border=\"1\" class=\"dataframe\">\n",
       "  <thead>\n",
       "    <tr style=\"text-align: right;\">\n",
       "      <th></th>\n",
       "      <th>image_name</th>\n",
       "      <th>tags</th>\n",
       "      <th>haze</th>\n",
       "      <th>primary</th>\n",
       "      <th>agriculture</th>\n",
       "      <th>clear</th>\n",
       "      <th>water</th>\n",
       "      <th>habitation</th>\n",
       "      <th>road</th>\n",
       "      <th>cultivation</th>\n",
       "      <th>slash_burn</th>\n",
       "      <th>cloudy</th>\n",
       "      <th>partly_cloudy</th>\n",
       "      <th>conventional_mine</th>\n",
       "      <th>bare_ground</th>\n",
       "      <th>artisinal_mine</th>\n",
       "      <th>blooming</th>\n",
       "      <th>selective_logging</th>\n",
       "      <th>blow_down</th>\n",
       "    </tr>\n",
       "  </thead>\n",
       "  <tbody>\n",
       "    <tr>\n",
       "      <th>0</th>\n",
       "      <td>train_0</td>\n",
       "      <td>haze primary</td>\n",
       "      <td>1</td>\n",
       "      <td>1</td>\n",
       "      <td>0</td>\n",
       "      <td>0</td>\n",
       "      <td>0</td>\n",
       "      <td>0</td>\n",
       "      <td>0</td>\n",
       "      <td>0</td>\n",
       "      <td>0</td>\n",
       "      <td>0</td>\n",
       "      <td>0</td>\n",
       "      <td>0</td>\n",
       "      <td>0</td>\n",
       "      <td>0</td>\n",
       "      <td>0</td>\n",
       "      <td>0</td>\n",
       "      <td>0</td>\n",
       "    </tr>\n",
       "    <tr>\n",
       "      <th>1</th>\n",
       "      <td>train_1</td>\n",
       "      <td>agriculture clear primary water</td>\n",
       "      <td>0</td>\n",
       "      <td>1</td>\n",
       "      <td>1</td>\n",
       "      <td>1</td>\n",
       "      <td>1</td>\n",
       "      <td>0</td>\n",
       "      <td>0</td>\n",
       "      <td>0</td>\n",
       "      <td>0</td>\n",
       "      <td>0</td>\n",
       "      <td>0</td>\n",
       "      <td>0</td>\n",
       "      <td>0</td>\n",
       "      <td>0</td>\n",
       "      <td>0</td>\n",
       "      <td>0</td>\n",
       "      <td>0</td>\n",
       "    </tr>\n",
       "    <tr>\n",
       "      <th>2</th>\n",
       "      <td>train_2</td>\n",
       "      <td>clear primary</td>\n",
       "      <td>0</td>\n",
       "      <td>1</td>\n",
       "      <td>0</td>\n",
       "      <td>1</td>\n",
       "      <td>0</td>\n",
       "      <td>0</td>\n",
       "      <td>0</td>\n",
       "      <td>0</td>\n",
       "      <td>0</td>\n",
       "      <td>0</td>\n",
       "      <td>0</td>\n",
       "      <td>0</td>\n",
       "      <td>0</td>\n",
       "      <td>0</td>\n",
       "      <td>0</td>\n",
       "      <td>0</td>\n",
       "      <td>0</td>\n",
       "    </tr>\n",
       "    <tr>\n",
       "      <th>3</th>\n",
       "      <td>train_3</td>\n",
       "      <td>clear primary</td>\n",
       "      <td>0</td>\n",
       "      <td>1</td>\n",
       "      <td>0</td>\n",
       "      <td>1</td>\n",
       "      <td>0</td>\n",
       "      <td>0</td>\n",
       "      <td>0</td>\n",
       "      <td>0</td>\n",
       "      <td>0</td>\n",
       "      <td>0</td>\n",
       "      <td>0</td>\n",
       "      <td>0</td>\n",
       "      <td>0</td>\n",
       "      <td>0</td>\n",
       "      <td>0</td>\n",
       "      <td>0</td>\n",
       "      <td>0</td>\n",
       "    </tr>\n",
       "    <tr>\n",
       "      <th>4</th>\n",
       "      <td>train_4</td>\n",
       "      <td>agriculture clear habitation primary road</td>\n",
       "      <td>0</td>\n",
       "      <td>1</td>\n",
       "      <td>1</td>\n",
       "      <td>1</td>\n",
       "      <td>0</td>\n",
       "      <td>1</td>\n",
       "      <td>1</td>\n",
       "      <td>0</td>\n",
       "      <td>0</td>\n",
       "      <td>0</td>\n",
       "      <td>0</td>\n",
       "      <td>0</td>\n",
       "      <td>0</td>\n",
       "      <td>0</td>\n",
       "      <td>0</td>\n",
       "      <td>0</td>\n",
       "      <td>0</td>\n",
       "    </tr>\n",
       "  </tbody>\n",
       "</table>\n",
       "</div>"
      ],
      "text/plain": [
       "  image_name                                       tags  haze  primary  \\\n",
       "0    train_0                               haze primary     1        1   \n",
       "1    train_1            agriculture clear primary water     0        1   \n",
       "2    train_2                              clear primary     0        1   \n",
       "3    train_3                              clear primary     0        1   \n",
       "4    train_4  agriculture clear habitation primary road     0        1   \n",
       "\n",
       "   agriculture  clear  water  habitation  road  cultivation  slash_burn  \\\n",
       "0            0      0      0           0     0            0           0   \n",
       "1            1      1      1           0     0            0           0   \n",
       "2            0      1      0           0     0            0           0   \n",
       "3            0      1      0           0     0            0           0   \n",
       "4            1      1      0           1     1            0           0   \n",
       "\n",
       "   cloudy  partly_cloudy  conventional_mine  bare_ground  artisinal_mine  \\\n",
       "0       0              0                  0            0               0   \n",
       "1       0              0                  0            0               0   \n",
       "2       0              0                  0            0               0   \n",
       "3       0              0                  0            0               0   \n",
       "4       0              0                  0            0               0   \n",
       "\n",
       "   blooming  selective_logging  blow_down  \n",
       "0         0                  0          0  \n",
       "1         0                  0          0  \n",
       "2         0                  0          0  \n",
       "3         0                  0          0  \n",
       "4         0                  0          0  "
      ]
     },
     "execution_count": 9,
     "metadata": {},
     "output_type": "execute_result"
    }
   ],
   "source": [
    "labels_df.head()"
   ]
  },
  {
   "cell_type": "code",
   "execution_count": 10,
   "metadata": {
    "collapsed": true
   },
   "outputs": [],
   "source": [
    "# image of train-jpg\n",
    "image=[0]*1000\n",
    "n=20000\n",
    "for t in range(0,1000):\n",
    "    image[t]=cv2.imread(PLANET_KAGGLE_ROOT+\"/train-jpg/train_\"+str(n)+\".jpg\")\n",
    "    n+=1\n",
    "resized_img = [np.reshape(cv2.resize(img,(64,64),interpolation=cv2.INTER_AREA),[1,64,64,3]) for img in image]\n",
    "x=np.vstack((resized_img))"
   ]
  },
  {
   "cell_type": "markdown",
   "metadata": {},
   "source": [
    "# label13 model predict"
   ]
  },
  {
   "cell_type": "code",
   "execution_count": 11,
   "metadata": {
    "collapsed": true
   },
   "outputs": [],
   "source": [
    "# real label\n",
    "a=labels_df.values[:,3:5]\n",
    "b=labels_df.values[:,6:11]\n",
    "c=labels_df.values[:,13:]\n",
    "label13_real_y=np.hstack((a,b))\n",
    "label13_real_y=np.hstack((label13_real_y,c))\n",
    "label13_real_y=label13_real_y[20000:21000]\n",
    "\n",
    "# predict label\n",
    "label13_y_pro=model1.predict(x)"
   ]
  },
  {
   "cell_type": "code",
   "execution_count": 30,
   "metadata": {
    "collapsed": true
   },
   "outputs": [],
   "source": [
    "# get predict one hot label\n",
    "label13_y=[] \n",
    "for i in range(1000): \n",
    "    label13_y.append([]) \n",
    "for i in range(0,1000):\n",
    "    if label13_y_pro[i][0]>0.5:\n",
    "        label13_y[i].append(1)\n",
    "    else:\n",
    "        label13_y[i].append(0)\n",
    "        \n",
    "    if label13_y_pro[i][1]>0.1:\n",
    "         label13_y[i].append(1)\n",
    "    else:\n",
    "        label13_y[i].append(0)\n",
    "        \n",
    "    if label13_y_pro[i][2]>0.1:\n",
    "        label13_y[i].append(1)\n",
    "    else:\n",
    "        label13_y[i].append(0)\n",
    "        \n",
    "    if label13_y_pro[i][3]>0.1:\n",
    "        label13_y[i].append(1)\n",
    "    else:\n",
    "        label13_y[i].append(0)\n",
    "        \n",
    "    if label13_y_pro[i][4]>0.1:\n",
    "        label13_y[i].append(1)\n",
    "    else:\n",
    "        label13_y[i].append(0)\n",
    "        \n",
    "    if label13_y_pro[i][5]>0.1:\n",
    "        label13_y[i].append(1)\n",
    "    else:\n",
    "        label13_y[i].append(0)\n",
    "        \n",
    "    if label13_y_pro[i][6]>0.1:\n",
    "        label13_y[i].append(1)\n",
    "    else:\n",
    "        label13_y[i].append(0)\n",
    "        \n",
    "    if label13_y_pro[i][7]>0.1:\n",
    "        label13_y[i].append(1)\n",
    "    else:\n",
    "        label13_y[i].append(0)\n",
    "        \n",
    "    if label13_y_pro[i][8]>0.1:\n",
    "        label13_y[i].append(1)\n",
    "    else:\n",
    "        label13_y[i].append(0)\n",
    "        \n",
    "    if label13_y_pro[i][9]>0.1:\n",
    "        label13_y[i].append(1)\n",
    "    else:\n",
    "        label13_y[i].append(0)\n",
    "        \n",
    "    if label13_y_pro[i][10]>0.1:\n",
    "        label13_y[i].append(1)\n",
    "    else:\n",
    "        label13_y[i].append(0)\n",
    "        \n",
    "    if label13_y_pro[i][11]>0.1:\n",
    "        label13_y[i].append(1)\n",
    "    else:\n",
    "        label13_y[i].append(0)\n",
    "        \n",
    "    if label13_y_pro[i][12]>0.1:\n",
    "        label13_y[i].append(1)\n",
    "    else:\n",
    "        label13_y[i].append(0)"
   ]
  },
  {
   "cell_type": "markdown",
   "metadata": {},
   "source": [
    "# weather model predict"
   ]
  },
  {
   "cell_type": "code",
   "execution_count": 13,
   "metadata": {
    "collapsed": true
   },
   "outputs": [],
   "source": [
    "#real label\n",
    "a=labels_df.values[:,5:6]\n",
    "b=labels_df.values[:,12:13]\n",
    "c=labels_df.values[:,2:3]\n",
    "d=labels_df.values[:,11:12]\n",
    "weather_real_y=np.hstack((a,b))\n",
    "weather_real_y=np.hstack((weather_real_y,c))\n",
    "weather_real_y=np.hstack((weather_real_y,d))\n",
    "weather_real_y=weather_real_y[20000:21000]\n",
    "\n",
    "# predict label\n",
    "weather_y_pro=model2.predict(x)"
   ]
  },
  {
   "cell_type": "code",
   "execution_count": 21,
   "metadata": {
    "collapsed": true
   },
   "outputs": [],
   "source": [
    "# get predict one hot label\n",
    "weather_y=[] \n",
    "for i in range(1000): \n",
    "    weather_y.append([]) \n",
    "for i in range(0,1000):\n",
    "    if np.argmax(weather_y_pro[i],0)==0:\n",
    "        weather_y[i].append(1)\n",
    "        weather_y[i].append(0)\n",
    "        weather_y[i].append(0)\n",
    "        weather_y[i].append(0)\n",
    "    elif np.argmax(weather_y_pro[i],0)==1:\n",
    "        weather_y[i].append(0)\n",
    "        weather_y[i].append(1)\n",
    "        weather_y[i].append(0)\n",
    "        weather_y[i].append(0)\n",
    "    elif np.argmax(weather_y_pro[i],0)==2:\n",
    "        weather_y[i].append(0)\n",
    "        weather_y[i].append(0)\n",
    "        weather_y[i].append(1)\n",
    "        weather_y[i].append(0)\n",
    "    elif np.argmax(weather_y_pro[i],0)==3:\n",
    "        weather_y[i].append(0)\n",
    "        weather_y[i].append(0)\n",
    "        weather_y[i].append(0)\n",
    "        weather_y[i].append(1)"
   ]
  },
  {
   "cell_type": "markdown",
   "metadata": {},
   "source": [
    "# combination model predict"
   ]
  },
  {
   "cell_type": "raw",
   "metadata": {},
   "source": [
    "primary\n",
    "agriculture\n",
    "water\n",
    "habitation\n",
    "road\n",
    "cultivation\n",
    "slash_burn\n",
    "conventional_mine\n",
    "bare_ground\n",
    "artisinal_mine\n",
    "blooming\n",
    "selective_logging\n",
    "blow_down\n",
    "clear\n",
    "partly_cloudy\n",
    "haze\n",
    "cloudy"
   ]
  },
  {
   "cell_type": "markdown",
   "metadata": {},
   "source": [
    "### if image have a label cloudy, it cannot have other lables"
   ]
  },
  {
   "cell_type": "code",
   "execution_count": 35,
   "metadata": {
    "collapsed": true
   },
   "outputs": [],
   "source": [
    "#predict label\n",
    "combination_y=np.hstack((label13_y,weather_y))\n",
    "#if image have a label cloudy, it cannot have other lables\n",
    "for i in range(len(combination_y)):\n",
    "    if (combination_y[i][16]==1):\n",
    "        combination_y[i]=[0,0,0,0,0,0,0,0,0,0,0,0,0,0,0,0,1]  \n",
    "        \n",
    "#real label\n",
    "combination_real_y=np.hstack((label13_real_y,weather_real_y))"
   ]
  },
  {
   "cell_type": "code",
   "execution_count": 44,
   "metadata": {},
   "outputs": [
    {
     "name": "stdout",
     "output_type": "stream",
     "text": [
      "[1 0 0 0 0 0 0 0 0 0 0 0 0 1 0 0 0]\n",
      "[1 0 0 0 0 0 0 0 0 0 0 0 0 1 0 0 0]\n"
     ]
    }
   ],
   "source": [
    "print combination_y[0]\n",
    "print combination_real_y[0]"
   ]
  },
  {
   "cell_type": "markdown",
   "metadata": {},
   "source": [
    "# f2-score"
   ]
  },
  {
   "cell_type": "code",
   "execution_count": 127,
   "metadata": {
    "collapsed": true
   },
   "outputs": [],
   "source": [
    "def f2_score():\n",
    "    f2_score=0.0\n",
    "    precision=0.0\n",
    "    recall=0.0\n",
    "    for i in range(len(combination_y)):\n",
    "        pre1real1=0.0\n",
    "        pre1real0=0.0\n",
    "        pre0real1=0.0\n",
    "        for j in range(len(combination_y[i])):\n",
    "            if combination_y[i][j]==combination_real_y[i][j]==1:\n",
    "                    pre1real1+=1\n",
    "            if combination_y[i][j]==1 and combination_real_y[i][j]==0:\n",
    "                    pre1real0+=1\n",
    "            if combination_y[i][j]==0 and combination_real_y[i][j]==1:\n",
    "                    pre0real1+=1\n",
    "        if pre1real1+pre1real0==0 or pre1real1+pre0real1==0:\n",
    "            f2_score=f2_score+1\n",
    "        else:\n",
    "            precision=pre1real1/(pre1real1+pre1real0)\n",
    "            recall=pre1real1/(pre1real1+pre0real1)\n",
    "            if(precision+recall==0):\n",
    "                f2_score+=1\n",
    "            else:\n",
    "                f2_score=f2_score+5*precision*recall/(4*precision+recall)\n",
    "    print (f2_score)/1000"
   ]
  },
  {
   "cell_type": "code",
   "execution_count": 128,
   "metadata": {},
   "outputs": [
    {
     "name": "stdout",
     "output_type": "stream",
     "text": [
      "0.866439420212\n"
     ]
    }
   ],
   "source": [
    "f2_score()"
   ]
  },
  {
   "cell_type": "markdown",
   "metadata": {},
   "source": [
    "# test-jpg predict"
   ]
  },
  {
   "cell_type": "code",
   "execution_count": 61,
   "metadata": {
    "collapsed": true
   },
   "outputs": [],
   "source": [
    "test_img=[0]*40669\n",
    "for i in range(0,40669):\n",
    "    test_img[i]=cv2.imread(PLANET_KAGGLE_ROOT+\"/test-jpg/test_\"+str(i)+\".jpg\")\n",
    "#test_x teat images\n",
    "test_img_resized = [np.reshape(cv2.resize(img,(64,64),interpolation=cv2.INTER_AREA),[1,64,64,3]) for img in test_img]\n",
    "test=np.vstack((test_img_resized))"
   ]
  },
  {
   "cell_type": "code",
   "execution_count": 62,
   "metadata": {
    "collapsed": true
   },
   "outputs": [],
   "source": [
    "test_label13_y_pro=model1.predict(test)"
   ]
  },
  {
   "cell_type": "code",
   "execution_count": 63,
   "metadata": {
    "collapsed": true
   },
   "outputs": [],
   "source": [
    "test_weather_y_pro=model2.predict(test)"
   ]
  },
  {
   "cell_type": "code",
   "execution_count": 96,
   "metadata": {
    "collapsed": true
   },
   "outputs": [],
   "source": [
    "test_y=[] \n",
    "for i in range(40669): \n",
    "    test_y.append([]) \n",
    "for i in range(0,40669):\n",
    "    if test_label13_y_pro[i][0]>0.5:\n",
    "        test_y[i].append(\"primary\")\n",
    "    if test_label13_y_pro[i][1]>0.5:\n",
    "        test_y[i].append(\"agriculture\")\n",
    "    if test_label13_y_pro[i][2]>0.5:\n",
    "        test_y[i].append(\"water\")\n",
    "    if test_label13_y_pro[i][3]>0.5:\n",
    "        test_y[i].append(\"habitation\")\n",
    "    if test_label13_y_pro[i][4]>0.5:\n",
    "        test_y[i].append(\"road\")\n",
    "    if test_label13_y_pro[i][5]>0.5:\n",
    "        test_y[i].append(\"cultivation\")\n",
    "    if test_label13_y_pro[i][6]>0.1:\n",
    "        test_y[i].append(\"slash_burn\")\n",
    "    if test_label13_y_pro[i][7]>0.1:\n",
    "        test_y[i].append(\"conventional_mine\")\n",
    "    if test_label13_y_pro[i][8]>0.1:\n",
    "        test_y[i].append(\"bare_ground\")\n",
    "    if test_label13_y_pro[i][9]>0.1:\n",
    "        test_y[i].append(\"artisinal_mine\")\n",
    "    if test_label13_y_pro[i][10]>0.1:\n",
    "        test_y[i].append(\"blooming\")\n",
    "    if test_label13_y_pro[i][11]>0.1:\n",
    "        test_y[i].append(\"selective_logging\")\n",
    "    if test_label13_y_pro[i][12]>0.1:\n",
    "        test_y[i].append(\"blow_down\")  \n",
    "    if np.argmax(test_weather_y_pro[i],0)==0:\n",
    "        test_y[i].append(\"clear\")\n",
    "    elif np.argmax(test_weather_y_pro[i],0)==1:\n",
    "        test_y[i].append(\"partly_cloudy\")\n",
    "    elif np.argmax(test_weather_y_pro[i],0)==2:\n",
    "        test_y[i].append(\"haze\")\n",
    "    elif np.argmax(test_weather_y_pro[i],0)==3:\n",
    "        test_y[i].append(\"cloudy\")"
   ]
  },
  {
   "cell_type": "code",
   "execution_count": 114,
   "metadata": {
    "collapsed": true
   },
   "outputs": [],
   "source": [
    "#image can only have cloudy\n",
    "for i in range(len(test_y)):\n",
    "    if (np.array(test_y[i])==[\"cloudy\"]).any():\n",
    "        test_y[i]=[\"cloudy\"]\n",
    "for i in range(len(test_y)):\n",
    "    if (np.array(test_y[i])==[\"haze\"]).all():\n",
    "        test_y[i]=[\"cloudy\"]"
   ]
  },
  {
   "cell_type": "code",
   "execution_count": 115,
   "metadata": {
    "collapsed": true
   },
   "outputs": [],
   "source": [
    "name=[0]*40669\n",
    "for n in range(0,40669):\n",
    "    name[n]=\"test_\"+str(n)\n",
    "final_df = pd.DataFrame({'image_name':name,'tags':test_y})"
   ]
  },
  {
   "cell_type": "code",
   "execution_count": 124,
   "metadata": {},
   "outputs": [
    {
     "data": {
      "text/html": [
       "<div>\n",
       "<style>\n",
       "    .dataframe thead tr:only-child th {\n",
       "        text-align: right;\n",
       "    }\n",
       "\n",
       "    .dataframe thead th {\n",
       "        text-align: left;\n",
       "    }\n",
       "\n",
       "    .dataframe tbody tr th {\n",
       "        vertical-align: top;\n",
       "    }\n",
       "</style>\n",
       "<table border=\"1\" class=\"dataframe\">\n",
       "  <thead>\n",
       "    <tr style=\"text-align: right;\">\n",
       "      <th></th>\n",
       "      <th>image_name</th>\n",
       "      <th>tags</th>\n",
       "    </tr>\n",
       "  </thead>\n",
       "  <tbody>\n",
       "    <tr>\n",
       "      <th>0</th>\n",
       "      <td>test_0</td>\n",
       "      <td>[primary, clear]</td>\n",
       "    </tr>\n",
       "    <tr>\n",
       "      <th>1</th>\n",
       "      <td>test_1</td>\n",
       "      <td>[primary, clear]</td>\n",
       "    </tr>\n",
       "    <tr>\n",
       "      <th>2</th>\n",
       "      <td>test_2</td>\n",
       "      <td>[primary, partly_cloudy]</td>\n",
       "    </tr>\n",
       "    <tr>\n",
       "      <th>3</th>\n",
       "      <td>test_3</td>\n",
       "      <td>[primary, partly_cloudy]</td>\n",
       "    </tr>\n",
       "    <tr>\n",
       "      <th>4</th>\n",
       "      <td>test_4</td>\n",
       "      <td>[primary, partly_cloudy]</td>\n",
       "    </tr>\n",
       "    <tr>\n",
       "      <th>5</th>\n",
       "      <td>test_5</td>\n",
       "      <td>[primary, clear]</td>\n",
       "    </tr>\n",
       "    <tr>\n",
       "      <th>6</th>\n",
       "      <td>test_6</td>\n",
       "      <td>[primary, agriculture, partly_cloudy]</td>\n",
       "    </tr>\n",
       "    <tr>\n",
       "      <th>7</th>\n",
       "      <td>test_7</td>\n",
       "      <td>[primary, agriculture, habitation, road, clear]</td>\n",
       "    </tr>\n",
       "    <tr>\n",
       "      <th>8</th>\n",
       "      <td>test_8</td>\n",
       "      <td>[primary, clear]</td>\n",
       "    </tr>\n",
       "    <tr>\n",
       "      <th>9</th>\n",
       "      <td>test_9</td>\n",
       "      <td>[primary, haze]</td>\n",
       "    </tr>\n",
       "    <tr>\n",
       "      <th>10</th>\n",
       "      <td>test_10</td>\n",
       "      <td>[primary, partly_cloudy]</td>\n",
       "    </tr>\n",
       "    <tr>\n",
       "      <th>11</th>\n",
       "      <td>test_11</td>\n",
       "      <td>[primary, clear]</td>\n",
       "    </tr>\n",
       "    <tr>\n",
       "      <th>12</th>\n",
       "      <td>test_12</td>\n",
       "      <td>[partly_cloudy]</td>\n",
       "    </tr>\n",
       "    <tr>\n",
       "      <th>13</th>\n",
       "      <td>test_13</td>\n",
       "      <td>[primary, clear]</td>\n",
       "    </tr>\n",
       "    <tr>\n",
       "      <th>14</th>\n",
       "      <td>test_14</td>\n",
       "      <td>[primary, clear]</td>\n",
       "    </tr>\n",
       "    <tr>\n",
       "      <th>15</th>\n",
       "      <td>test_15</td>\n",
       "      <td>[primary, clear]</td>\n",
       "    </tr>\n",
       "    <tr>\n",
       "      <th>16</th>\n",
       "      <td>test_16</td>\n",
       "      <td>[primary, agriculture, habitation, road, clear]</td>\n",
       "    </tr>\n",
       "    <tr>\n",
       "      <th>17</th>\n",
       "      <td>test_17</td>\n",
       "      <td>[primary, partly_cloudy]</td>\n",
       "    </tr>\n",
       "    <tr>\n",
       "      <th>18</th>\n",
       "      <td>test_18</td>\n",
       "      <td>[primary, haze]</td>\n",
       "    </tr>\n",
       "    <tr>\n",
       "      <th>19</th>\n",
       "      <td>test_19</td>\n",
       "      <td>[primary, clear]</td>\n",
       "    </tr>\n",
       "    <tr>\n",
       "      <th>20</th>\n",
       "      <td>test_20</td>\n",
       "      <td>[primary, water, artisinal_mine, clear]</td>\n",
       "    </tr>\n",
       "    <tr>\n",
       "      <th>21</th>\n",
       "      <td>test_21</td>\n",
       "      <td>[primary, agriculture, partly_cloudy]</td>\n",
       "    </tr>\n",
       "    <tr>\n",
       "      <th>22</th>\n",
       "      <td>test_22</td>\n",
       "      <td>[primary, agriculture, road, clear]</td>\n",
       "    </tr>\n",
       "    <tr>\n",
       "      <th>23</th>\n",
       "      <td>test_23</td>\n",
       "      <td>[cloudy]</td>\n",
       "    </tr>\n",
       "    <tr>\n",
       "      <th>24</th>\n",
       "      <td>test_24</td>\n",
       "      <td>[primary, agriculture, road, partly_cloudy]</td>\n",
       "    </tr>\n",
       "    <tr>\n",
       "      <th>25</th>\n",
       "      <td>test_25</td>\n",
       "      <td>[primary, clear]</td>\n",
       "    </tr>\n",
       "    <tr>\n",
       "      <th>26</th>\n",
       "      <td>test_26</td>\n",
       "      <td>[primary, agriculture, road, partly_cloudy]</td>\n",
       "    </tr>\n",
       "    <tr>\n",
       "      <th>27</th>\n",
       "      <td>test_27</td>\n",
       "      <td>[primary, clear]</td>\n",
       "    </tr>\n",
       "    <tr>\n",
       "      <th>28</th>\n",
       "      <td>test_28</td>\n",
       "      <td>[primary, agriculture, road, haze]</td>\n",
       "    </tr>\n",
       "    <tr>\n",
       "      <th>29</th>\n",
       "      <td>test_29</td>\n",
       "      <td>[primary, clear]</td>\n",
       "    </tr>\n",
       "    <tr>\n",
       "      <th>30</th>\n",
       "      <td>test_30</td>\n",
       "      <td>[primary, partly_cloudy]</td>\n",
       "    </tr>\n",
       "    <tr>\n",
       "      <th>31</th>\n",
       "      <td>test_31</td>\n",
       "      <td>[cloudy]</td>\n",
       "    </tr>\n",
       "    <tr>\n",
       "      <th>32</th>\n",
       "      <td>test_32</td>\n",
       "      <td>[primary, clear]</td>\n",
       "    </tr>\n",
       "    <tr>\n",
       "      <th>33</th>\n",
       "      <td>test_33</td>\n",
       "      <td>[primary, haze]</td>\n",
       "    </tr>\n",
       "    <tr>\n",
       "      <th>34</th>\n",
       "      <td>test_34</td>\n",
       "      <td>[cloudy]</td>\n",
       "    </tr>\n",
       "    <tr>\n",
       "      <th>35</th>\n",
       "      <td>test_35</td>\n",
       "      <td>[primary, clear]</td>\n",
       "    </tr>\n",
       "    <tr>\n",
       "      <th>36</th>\n",
       "      <td>test_36</td>\n",
       "      <td>[primary, clear]</td>\n",
       "    </tr>\n",
       "    <tr>\n",
       "      <th>37</th>\n",
       "      <td>test_37</td>\n",
       "      <td>[primary, clear]</td>\n",
       "    </tr>\n",
       "  </tbody>\n",
       "</table>\n",
       "</div>"
      ],
      "text/plain": [
       "   image_name                                             tags\n",
       "0      test_0                                 [primary, clear]\n",
       "1      test_1                                 [primary, clear]\n",
       "2      test_2                         [primary, partly_cloudy]\n",
       "3      test_3                         [primary, partly_cloudy]\n",
       "4      test_4                         [primary, partly_cloudy]\n",
       "5      test_5                                 [primary, clear]\n",
       "6      test_6            [primary, agriculture, partly_cloudy]\n",
       "7      test_7  [primary, agriculture, habitation, road, clear]\n",
       "8      test_8                                 [primary, clear]\n",
       "9      test_9                                  [primary, haze]\n",
       "10    test_10                         [primary, partly_cloudy]\n",
       "11    test_11                                 [primary, clear]\n",
       "12    test_12                                  [partly_cloudy]\n",
       "13    test_13                                 [primary, clear]\n",
       "14    test_14                                 [primary, clear]\n",
       "15    test_15                                 [primary, clear]\n",
       "16    test_16  [primary, agriculture, habitation, road, clear]\n",
       "17    test_17                         [primary, partly_cloudy]\n",
       "18    test_18                                  [primary, haze]\n",
       "19    test_19                                 [primary, clear]\n",
       "20    test_20          [primary, water, artisinal_mine, clear]\n",
       "21    test_21            [primary, agriculture, partly_cloudy]\n",
       "22    test_22              [primary, agriculture, road, clear]\n",
       "23    test_23                                         [cloudy]\n",
       "24    test_24      [primary, agriculture, road, partly_cloudy]\n",
       "25    test_25                                 [primary, clear]\n",
       "26    test_26      [primary, agriculture, road, partly_cloudy]\n",
       "27    test_27                                 [primary, clear]\n",
       "28    test_28               [primary, agriculture, road, haze]\n",
       "29    test_29                                 [primary, clear]\n",
       "30    test_30                         [primary, partly_cloudy]\n",
       "31    test_31                                         [cloudy]\n",
       "32    test_32                                 [primary, clear]\n",
       "33    test_33                                  [primary, haze]\n",
       "34    test_34                                         [cloudy]\n",
       "35    test_35                                 [primary, clear]\n",
       "36    test_36                                 [primary, clear]\n",
       "37    test_37                                 [primary, clear]"
      ]
     },
     "execution_count": 124,
     "metadata": {},
     "output_type": "execute_result"
    }
   ],
   "source": [
    "final_df.head(38)"
   ]
  },
  {
   "cell_type": "code",
   "execution_count": 121,
   "metadata": {
    "collapsed": true
   },
   "outputs": [],
   "source": [
    "final_df.to_csv('/Users/sunchenxi/Desktop/lab/code/planet/submission_file.csv', index=False)"
   ]
  },
  {
   "cell_type": "code",
   "execution_count": null,
   "metadata": {
    "collapsed": true
   },
   "outputs": [],
   "source": []
  }
 ],
 "metadata": {
  "kernelspec": {
   "display_name": "Python 2",
   "language": "python",
   "name": "python2"
  },
  "language_info": {
   "codemirror_mode": {
    "name": "ipython",
    "version": 2
   },
   "file_extension": ".py",
   "mimetype": "text/x-python",
   "name": "python",
   "nbconvert_exporter": "python",
   "pygments_lexer": "ipython2",
   "version": "2.7.13"
  }
 },
 "nbformat": 4,
 "nbformat_minor": 2
}
